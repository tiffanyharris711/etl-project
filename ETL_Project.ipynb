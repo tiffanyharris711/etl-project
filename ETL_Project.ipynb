{
 "cells": [
  {
   "cell_type": "code",
   "execution_count": null,
   "metadata": {},
   "outputs": [],
   "source": [
    "#import dependencies\n",
    "import csv\n",
    "import pandas as pd\n",
    "from sqlalchemy import create_engine"
   ]
  },
  {
   "cell_type": "code",
   "execution_count": null,
   "metadata": {},
   "outputs": [],
   "source": [
    "# import csv files\n",
    "csvfile19 = \"./Resources/2019.csv\"\n",
    "csv_df19 = pd.read_csv(csvfile19)\n",
    "csv_df19[\"Year\"] = 2019\n",
    "\n",
    "csvfile18 = \"./Resources/2018.csv\"\n",
    "csv_df18 = pd.read_csv(csvfile18)\n",
    "csv_df18[\"Year\"] = 2018\n",
    "\n",
    "csvfile17 = \"./Resources/2017.csv\"\n",
    "csv_df17 = pd.read_csv(csvfile17)\n",
    "csv_df17[\"Year\"] = 2017\n",
    "\n",
    "csvfile16 = \"./Resources/2016.csv\"\n",
    "csv_df16 = pd.read_csv(csvfile16)\n",
    "csv_df16[\"Year\"] = 2016\n",
    "\n",
    "csvfile15 = \"./Resources/2015.csv\"\n",
    "csv_df15 = pd.read_csv(csvfile15)\n",
    "csv_df15[\"Year\"] = 2015"
   ]
  },
  {
   "cell_type": "code",
   "execution_count": null,
   "metadata": {},
   "outputs": [],
   "source": [
    "csv_df19.head()"
   ]
  },
  {
   "cell_type": "code",
   "execution_count": null,
   "metadata": {},
   "outputs": [],
   "source": [
    "#view list of columns in csv files\n",
    "csv_df19.columns"
   ]
  },
  {
   "cell_type": "code",
   "execution_count": null,
   "metadata": {},
   "outputs": [],
   "source": [
    "#Choose columns for dataframe\n",
    "columns = ['Player', 'Tm', 'Pos', 'Age', 'FantasyPoints', 'Year']"
   ]
  },
  {
   "cell_type": "code",
   "execution_count": null,
   "metadata": {},
   "outputs": [],
   "source": [
    "#Filter original csv files based on columns chosen, put in new df\n",
    "new_csv_df19 = csv_df19[columns].copy()\n",
    "new_csv_df18 = csv_df18[columns].copy()\n",
    "new_csv_df17 = csv_df17[columns].copy()\n",
    "new_csv_df16 = csv_df16[columns].copy()\n",
    "new_csv_df15 = csv_df15[columns].copy()"
   ]
  },
  {
   "cell_type": "code",
   "execution_count": null,
   "metadata": {},
   "outputs": [],
   "source": [
    "#drop invalid position 0\n",
    "new_csv_df19 = new_csv_df19.loc[new_csv_df19['Pos'] != '0']\n",
    "new_csv_df18 = new_csv_df18.loc[new_csv_df18['Pos'] != '0']\n",
    "new_csv_df17 = new_csv_df17.loc[new_csv_df17['Pos'] != '0']\n",
    "new_csv_df16 = new_csv_df16.loc[new_csv_df16['Pos'] != '0']\n",
    "new_csv_df15 = new_csv_df15.loc[new_csv_df15['Pos'] != '0']"
   ]
  },
  {
   "cell_type": "code",
   "execution_count": null,
   "metadata": {},
   "outputs": [],
   "source": [
    "#import API csv file\n",
    "api_csv = \"./Resources/api_player_data.csv\"\n",
    "api_csvdf = pd.read_csv(api_csv)"
   ]
  },
  {
   "cell_type": "code",
   "execution_count": null,
   "metadata": {},
   "outputs": [],
   "source": [
    "api_csvdf.columns"
   ]
  },
  {
   "cell_type": "code",
   "execution_count": null,
   "metadata": {},
   "outputs": [],
   "source": [
    "api_drop_columns = ['Unnamed: 0', 'PlayerID', 'Height', 'Salary', 'Position']"
   ]
  },
  {
   "cell_type": "code",
   "execution_count": null,
   "metadata": {},
   "outputs": [],
   "source": [
    "api_csvdf.head()"
   ]
  },
  {
   "cell_type": "code",
   "execution_count": null,
   "metadata": {},
   "outputs": [],
   "source": [
    "#Filter api csv file based on columns chosen, put in new df\n",
    "new_api_csvdf = api_csvdf.drop(columns=api_drop_columns)\n",
    "new_api_csvdf"
   ]
  },
  {
   "cell_type": "code",
   "execution_count": null,
   "metadata": {},
   "outputs": [],
   "source": [
    "new_api_csvdf.dropna(inplace=True)"
   ]
  },
  {
   "cell_type": "code",
   "execution_count": null,
   "metadata": {},
   "outputs": [],
   "source": [
    "new_api_csvdf"
   ]
  },
  {
   "cell_type": "code",
   "execution_count": null,
   "metadata": {},
   "outputs": [],
   "source": [
    "#combine height in feet with height in inches to create total height in inches\n",
    "new_api_csvdf[\"Height (in)\"] = (new_api_csvdf[\"HeightFeet\"] * 12) + new_api_csvdf[\"HeightInches\"]"
   ]
  },
  {
   "cell_type": "code",
   "execution_count": null,
   "metadata": {},
   "outputs": [],
   "source": [
    "new_api_csvdf.head()"
   ]
  },
  {
   "cell_type": "code",
   "execution_count": null,
   "metadata": {},
   "outputs": [],
   "source": [
    "new_api_csvdf.drop(columns=['HeightFeet', 'HeightInches'], inplace=True)"
   ]
  },
  {
   "cell_type": "code",
   "execution_count": null,
   "metadata": {},
   "outputs": [],
   "source": [
    "new_api_csvdf"
   ]
  },
  {
   "cell_type": "code",
   "execution_count": null,
   "metadata": {},
   "outputs": [],
   "source": [
    "reorder_col_api = ['Name', 'Height (in)', 'Weight', 'Experience', 'ADP']\n",
    "reorder_col_api_csvdf = new_api_csvdf.reindex(columns=reorder_col_api)"
   ]
  },
  {
   "cell_type": "code",
   "execution_count": null,
   "metadata": {},
   "outputs": [],
   "source": [
    "reorder_col_api_csvdf.head()"
   ]
  },
  {
   "cell_type": "code",
   "execution_count": null,
   "metadata": {},
   "outputs": [],
   "source": [
    "connection_string = \"postgres:admin@localhost:63474/pandasySQL_db\"\n",
    "engine = create_engine(f'postgresql://{connection_string}')"
   ]
  },
  {
   "cell_type": "code",
   "execution_count": null,
   "metadata": {},
   "outputs": [],
   "source": [
    "print(connection_string)"
   ]
  },
  {
   "cell_type": "code",
   "execution_count": null,
   "metadata": {},
   "outputs": [],
   "source": [
    "engine.table_names()"
   ]
  },
  {
   "cell_type": "code",
   "execution_count": null,
   "metadata": {},
   "outputs": [],
   "source": [
    "#append transformed dataframes to postgressql tables\n",
    "new_csv_df19.to_sql(name='player2019', con=engine, if_exists='append', index=False)\n",
    "new_csv_df18.to_sql(name='player2018', con=engine, if_exists='append', index=False)\n",
    "new_csv_df17.to_sql(name='player2017', con=engine, if_exists='append', index=False)\n",
    "new_csv_df16.to_sql(name='player2016', con=engine, if_exists='append', index=False)\n",
    "new_csv_df15.to_sql(name='player2015', con=engine, if_exists='append', index=False)\n",
    "reorder_col_api_csvdf.to_sql(name='playerStats', con=engine, if_exists='append', index=False)"
   ]
  },
  {
   "cell_type": "code",
   "execution_count": null,
   "metadata": {},
   "outputs": [],
   "source": [
    "pd.read_sql_query('select * from player2019', con=engine).head()"
   ]
  }
 ],
 "metadata": {
  "kernelspec": {
   "display_name": "Python 3",
   "language": "python",
   "name": "python3"
  },
  "language_info": {
   "codemirror_mode": {
    "name": "ipython",
    "version": 3
   },
   "file_extension": ".py",
   "mimetype": "text/x-python",
   "name": "python",
   "nbconvert_exporter": "python",
   "pygments_lexer": "ipython3",
   "version": "3.8.5"
  }
 },
 "nbformat": 4,
 "nbformat_minor": 4
}
